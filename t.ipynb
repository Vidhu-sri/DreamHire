{
 "cells": [
  {
   "cell_type": "code",
   "execution_count": 5,
   "metadata": {},
   "outputs": [],
   "source": [
    "from flask import Flask, request, jsonify\n",
    "import os\n",
    "from PyPDF2 import PdfReader\n",
    "import re\n",
    "import nltk\n",
    "from nltk.corpus import stopwords\n",
    "from nltk.tokenize import word_tokenize\n",
    "from nltk.stem import PorterStemmer\n",
    "from openai import OpenAI\n",
    "import numpy as np\n",
    "import pandas as pd\n",
    "import fitz\n",
    "from sklearn.metrics.pairwise import cosine_similarity\n",
    "from collections import Counter\n",
    "from sklearn.feature_extraction.text import CountVectorizer\n",
    "from dotenv import load_dotenv"
   ]
  },
  {
   "cell_type": "code",
   "execution_count": 4,
   "metadata": {},
   "outputs": [
    {
     "name": "stdout",
     "output_type": "stream",
     "text": [
      "Collecting PyMuPDF\n",
      "  Downloading PyMuPDF-1.24.5-cp311-none-win_amd64.whl (3.2 MB)\n",
      "                                              0.0/3.2 MB ? eta -:--:--\n",
      "     ---                                      0.3/3.2 MB 8.9 MB/s eta 0:00:01\n",
      "     ----------------                         1.3/3.2 MB 16.9 MB/s eta 0:00:01\n",
      "     ------------------------                 2.0/3.2 MB 20.9 MB/s eta 0:00:01\n",
      "     -------------------------------          2.5/3.2 MB 14.6 MB/s eta 0:00:01\n",
      "     ---------------------------------------  3.2/3.2 MB 15.7 MB/s eta 0:00:01\n",
      "     ---------------------------------------- 3.2/3.2 MB 14.7 MB/s eta 0:00:00\n",
      "Collecting PyMuPDFb==1.24.3 (from PyMuPDF)\n",
      "  Using cached PyMuPDFb-1.24.3-py3-none-win_amd64.whl (12.4 MB)\n",
      "Installing collected packages: PyMuPDFb, PyMuPDF\n",
      "Successfully installed PyMuPDF-1.24.5 PyMuPDFb-1.24.3\n",
      "Note: you may need to restart the kernel to use updated packages.\n"
     ]
    },
    {
     "name": "stderr",
     "output_type": "stream",
     "text": [
      "\n",
      "[notice] A new release of pip is available: 23.1.2 -> 24.0\n",
      "[notice] To update, run: python.exe -m pip install --upgrade pip\n"
     ]
    }
   ],
   "source": [
    "pip install PyMuPDF\n"
   ]
  },
  {
   "cell_type": "code",
   "execution_count": null,
   "metadata": {},
   "outputs": [],
   "source": []
  }
 ],
 "metadata": {
  "kernelspec": {
   "display_name": "Python 3",
   "language": "python",
   "name": "python3"
  },
  "language_info": {
   "codemirror_mode": {
    "name": "ipython",
    "version": 3
   },
   "file_extension": ".py",
   "mimetype": "text/x-python",
   "name": "python",
   "nbconvert_exporter": "python",
   "pygments_lexer": "ipython3",
   "version": "3.11.4"
  }
 },
 "nbformat": 4,
 "nbformat_minor": 2
}
